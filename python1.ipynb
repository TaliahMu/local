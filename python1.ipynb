{
 "cells": [
  {
   "cell_type": "markdown",
   "metadata": {},
   "source": [
    "Take a particular scan and display the number of files, the size of each file, the number of frames per file, the number of averaged frames, and plot an example image using the average of a few frames. "
   ]
  },
  {
   "cell_type": "code",
   "execution_count": null,
   "metadata": {},
   "outputs": [],
   "source": [
    "nfiles =\n",
    "size =\n",
    "nframes =\n",
    "avgframes =\n",
    "plt.imshow()"
   ]
  },
  {
   "cell_type": "markdown",
   "metadata": {},
   "source": [
    "The matlab code:\n",
    "\n",
    "function numFields=testFunc(key)\n",
    "\n",
    "scanKey = fetch(meso.ScanInfo & key);\n",
    "\n",
    "numFields=0;\n",
    "for i = 1:length(scanKey)\n",
    "    disp(['Now on index ' num2str(i)]);\n",
    "    numFields  = numFields + fetch1(meso.ScanInfo & scanKey(i),'nrois');\n",
    "end\n",
    "\n",
    "end"
   ]
  },
  {
   "cell_type": "code",
   "execution_count": 4,
   "metadata": {},
   "outputs": [
    {
     "ename": "ModuleNotFoundError",
     "evalue": "No module named 'datajoint'",
     "output_type": "error",
     "traceback": [
      "\u001b[0;31m---------------------------------------------------------------------------\u001b[0m",
      "\u001b[0;31mModuleNotFoundError\u001b[0m                       Traceback (most recent call last)",
      "\u001b[0;32m<ipython-input-4-a1238753d0e2>\u001b[0m in \u001b[0;36m<module>\u001b[0;34m()\u001b[0m\n\u001b[0;32m----> 1\u001b[0;31m \u001b[0;32mimport\u001b[0m \u001b[0mdatajoint\u001b[0m \u001b[0;32mas\u001b[0m \u001b[0mdj\u001b[0m\u001b[0;34m\u001b[0m\u001b[0m\n\u001b[0m",
      "\u001b[0;31mModuleNotFoundError\u001b[0m: No module named 'datajoint'"
     ]
    }
   ],
   "source": [
    "import datajoint as dj\n",
    "#Figure out how to import datajoint, connect to the database in a way that I\n",
    "#can acess the data without changing it like we did in the datajoint workshop, \n",
    "#and create new tables in my own cloned repository of cajal using the data on \n",
    "#the database that I have access to but cannot change."
   ]
  },
  {
   "cell_type": "code",
   "execution_count": null,
   "metadata": {},
   "outputs": [],
   "source": []
  }
 ],
 "metadata": {
  "kernelspec": {
   "display_name": "Python 3",
   "language": "python",
   "name": "python3"
  },
  "language_info": {
   "codemirror_mode": {
    "name": "ipython",
    "version": 3
   },
   "file_extension": ".py",
   "mimetype": "text/x-python",
   "name": "python",
   "nbconvert_exporter": "python",
   "pygments_lexer": "ipython3",
   "version": "3.6.5"
  }
 },
 "nbformat": 4,
 "nbformat_minor": 2
}
